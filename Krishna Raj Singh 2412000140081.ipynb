{
  "nbformat": 4,
  "nbformat_minor": 0,
  "metadata": {
    "colab": {
      "provenance": []
    },
    "kernelspec": {
      "name": "python3",
      "display_name": "Python 3"
    },
    "language_info": {
      "name": "python"
    }
  },
  "cells": [
    {
      "cell_type": "code",
      "execution_count": null,
      "metadata": {
        "id": "vKOZRB7lr3Rg"
      },
      "outputs": [],
      "source": [
        "import pandas as pd\n",
        "import matplotlib.pyplot as plt\n",
        "\n",
        "df_csv = pd.read_csv('Lok_sabha.csv')\n",
        "\n",
        "df_csv\n",
        "\n",
        "# Create a bar graph using correct column names\n",
        "plt.figure(figsize=(12, 6))\n",
        "plt.bar(df_csv['States and Union Territories'], df_csv['No. Of Phases'], color='skyblue')\n",
        "\n",
        "# Add labels and title\n",
        "plt.xlabel('State / Union Territory')\n",
        "plt.ylabel('Number of Phases')\n",
        "plt.title('Lok Sabha Election Phases by State/UT')\n",
        "plt.xticks(rotation=90)  # Rotate for better readability\n",
        "\n",
        "# Show the graph\n",
        "plt.tight_layout()\n",
        "plt.show()"
      ]
    }
  ]
}